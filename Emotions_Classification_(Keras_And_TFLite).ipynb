{
  "nbformat": 4,
  "nbformat_minor": 0,
  "metadata": {
    "colab": {
      "name": "Emotions Classification (Keras And TFLite).ipynb",
      "provenance": []
    },
    "kernelspec": {
      "name": "python3",
      "display_name": "Python 3"
    },
    "language_info": {
      "name": "python"
    },
    "accelerator": "GPU"
  },
  "cells": [
    {
      "cell_type": "code",
      "execution_count": 1,
      "metadata": {
        "colab": {
          "base_uri": "https://localhost:8080/"
        },
        "id": "2kelgSBdZJWl",
        "outputId": "a2d1247e-4a94-46c1-aab2-45ee6c00936f"
      },
      "outputs": [
        {
          "output_type": "stream",
          "name": "stdout",
          "text": [
            "Thu Dec 30 13:06:33 2021       \n",
            "+-----------------------------------------------------------------------------+\n",
            "| NVIDIA-SMI 495.44       Driver Version: 460.32.03    CUDA Version: 11.2     |\n",
            "|-------------------------------+----------------------+----------------------+\n",
            "| GPU  Name        Persistence-M| Bus-Id        Disp.A | Volatile Uncorr. ECC |\n",
            "| Fan  Temp  Perf  Pwr:Usage/Cap|         Memory-Usage | GPU-Util  Compute M. |\n",
            "|                               |                      |               MIG M. |\n",
            "|===============================+======================+======================|\n",
            "|   0  Tesla K80           Off  | 00000000:00:04.0 Off |                    0 |\n",
            "| N/A   32C    P8    28W / 149W |      0MiB / 11441MiB |      0%      Default |\n",
            "|                               |                      |                  N/A |\n",
            "+-------------------------------+----------------------+----------------------+\n",
            "                                                                               \n",
            "+-----------------------------------------------------------------------------+\n",
            "| Processes:                                                                  |\n",
            "|  GPU   GI   CI        PID   Type   Process name                  GPU Memory |\n",
            "|        ID   ID                                                   Usage      |\n",
            "|=============================================================================|\n",
            "|  No running processes found                                                 |\n",
            "+-----------------------------------------------------------------------------+\n"
          ]
        }
      ],
      "source": [
        "!nvidia-smi"
      ]
    },
    {
      "cell_type": "markdown",
      "source": [
        "#Downloading Dataset"
      ],
      "metadata": {
        "id": "eYuV7wbldDPa"
      }
    },
    {
      "cell_type": "code",
      "source": [
        "! pip install kaggle\n",
        "! mkdir ~/.kaggle\n",
        "! cp kaggle.json ~/.kaggle/\n",
        "! chmod 600 ~/.kaggle/kaggle.json"
      ],
      "metadata": {
        "id": "W7IRPswXcwWt"
      },
      "execution_count": null,
      "outputs": []
    },
    {
      "cell_type": "code",
      "source": [
        "!kaggle datasets download -d muhammadhananasghar/human-emotions-datasethes"
      ],
      "metadata": {
        "colab": {
          "base_uri": "https://localhost:8080/"
        },
        "id": "597LSNACc0pd",
        "outputId": "88d42ae3-5755-446e-f9b5-d3b396152efe"
      },
      "execution_count": 3,
      "outputs": [
        {
          "output_type": "stream",
          "name": "stdout",
          "text": [
            "Downloading human-emotions-datasethes.zip to /content\n",
            " 94% 118M/126M [00:00<00:00, 131MB/s] \n",
            "100% 126M/126M [00:00<00:00, 134MB/s]\n"
          ]
        }
      ]
    },
    {
      "cell_type": "code",
      "source": [
        "!unzip *.zip && rm -rf *.zip"
      ],
      "metadata": {
        "id": "tksospHUc7QI"
      },
      "execution_count": null,
      "outputs": []
    },
    {
      "cell_type": "markdown",
      "source": [
        "#Loading and Preprocessing Images"
      ],
      "metadata": {
        "id": "ziYtCTm0dI3v"
      }
    },
    {
      "cell_type": "code",
      "source": [
        "IMG_HEIGHT = 100\n",
        "IMG_WIDTH = 100\n",
        "BATCH_SIZE =32"
      ],
      "metadata": {
        "id": "UAlVoSTfdL19"
      },
      "execution_count": 5,
      "outputs": []
    },
    {
      "cell_type": "code",
      "source": [
        "TRAIN_IMAGES_PATH = \"/content/Emotions Dataset/train\"\n",
        "TEST_IMAGES_PATH = \"/content/Emotions Dataset/test\""
      ],
      "metadata": {
        "id": "1nSz7MRudvFV"
      },
      "execution_count": 6,
      "outputs": []
    },
    {
      "cell_type": "code",
      "source": [
        "from tensorflow.keras.preprocessing.image import ImageDataGenerator\n",
        "\n",
        "train_datagen = ImageDataGenerator(\n",
        "    rescale = 1./255,\n",
        "    horizontal_flip = True,\n",
        "    fill_mode = \"nearest\",\n",
        "    zoom_range = 0.3,\n",
        "    shear_range = 0.3\n",
        ")\n",
        "\n",
        "test_datagen = ImageDataGenerator(rescale=1./255)\n",
        "\n",
        "train_generator = train_datagen.flow_from_directory(\n",
        "    TRAIN_IMAGES_PATH,\n",
        "    color_mode=\"grayscale\",\n",
        "    batch_size=BATCH_SIZE,\n",
        "    target_size=(IMG_HEIGHT, IMG_WIDTH),\n",
        "    class_mode=\"categorical\",\n",
        "    shuffle=True\n",
        ")\n",
        "\n",
        "test_generator = test_datagen.flow_from_directory(\n",
        "    TEST_IMAGES_PATH,\n",
        "    color_mode=\"grayscale\",\n",
        "    batch_size=BATCH_SIZE,\n",
        "    target_size=(IMG_HEIGHT, IMG_WIDTH),\n",
        "    class_mode=\"categorical\",\n",
        "    shuffle=True\n",
        ")"
      ],
      "metadata": {
        "colab": {
          "base_uri": "https://localhost:8080/"
        },
        "id": "QnU5r7SAd8E7",
        "outputId": "fbbd7082-0a49-478c-9102-c2b3589abf9b"
      },
      "execution_count": 9,
      "outputs": [
        {
          "output_type": "stream",
          "name": "stdout",
          "text": [
            "Found 6799 images belonging to 3 classes.\n",
            "Found 2278 images belonging to 3 classes.\n"
          ]
        }
      ]
    },
    {
      "cell_type": "code",
      "source": [
        "classnames = train_generator.class_indices\n",
        "numclasses = train_generator.num_classes\n",
        "class_labels = [i for i in classnames.keys()]"
      ],
      "metadata": {
        "id": "XQzO2eoWfNgQ"
      },
      "execution_count": 13,
      "outputs": []
    },
    {
      "cell_type": "code",
      "source": [
        "class_labels"
      ],
      "metadata": {
        "colab": {
          "base_uri": "https://localhost:8080/"
        },
        "id": "quWgKZL1h4Tj",
        "outputId": "a8853f98-7f8a-4d33-abd8-fc765d5b43f5"
      },
      "execution_count": 14,
      "outputs": [
        {
          "output_type": "execute_result",
          "data": {
            "text/plain": [
              "['angry', 'happy', 'sad']"
            ]
          },
          "metadata": {},
          "execution_count": 14
        }
      ]
    },
    {
      "cell_type": "code",
      "source": [
        "import random\n",
        "import matplotlib.pyplot as plt\n",
        "\n",
        "img, label = train_generator.__next__()\n",
        "i = random.randint(0, (img.shape[0])-1)\n",
        "image = img[i]\n",
        "labl = class_labels[label[i].argmax()]\n",
        "plt.imshow(image[:, :, 0], cmap=\"gray\")\n",
        "plt.title(labl)\n",
        "plt.show()"
      ],
      "metadata": {
        "colab": {
          "base_uri": "https://localhost:8080/",
          "height": 281
        },
        "id": "lFuxQPGlfe3a",
        "outputId": "9759286e-455b-45ad-f044-d9edf126a487"
      },
      "execution_count": 19,
      "outputs": [
        {
          "output_type": "display_data",
          "data": {
            "image/png": "[encoded data removed]",
            "text/plain": [
              "<Figure size 432x288 with 1 Axes>"
            ]
          },
          "metadata": {
            "needs_background": "light"
          }
        }
      ]
    },
    {
      "cell_type": "markdown",
      "source": [
        "#Model Development"
      ],
      "metadata": {
        "id": "lhPpcXuMiYWa"
      }
    },
    {
      "cell_type": "code",
      "source": [
        "from tensorflow.keras.models import Sequential\n",
        "from tensorflow.keras.layers import Conv2D\n",
        "from tensorflow.keras.layers import MaxPooling2D\n",
        "from tensorflow.keras.layers import Dense\n",
        "from tensorflow.keras.layers import Flatten\n",
        "from tensorflow.keras.layers import Dropout"
      ],
      "metadata": {
        "id": "XA3vFB9ViMUU"
      },
      "execution_count": 20,
      "outputs": []
    },
    {
      "cell_type": "code",
      "source": [
        "model = Sequential()\n",
        "\n",
        "model.add(Conv2D(filters=32, kernel_size=(3, 3), activation=\"relu\", input_shape=(100, 100, 1)))\n",
        "\n",
        "model.add(Conv2D(filters=64, kernel_size=(3, 3), activation=\"relu\"))\n",
        "model.add(MaxPooling2D(pool_size=(2, 2)))\n",
        "model.add(Dropout(rate=0.1))\n",
        "\n",
        "model.add(Conv2D(filters=128, kernel_size=(3, 3), activation=\"relu\"))\n",
        "model.add(MaxPooling2D(pool_size=(2, 2)))\n",
        "model.add(Dropout(rate=0.1))\n",
        "\n",
        "model.add(Conv2D(filters=256, kernel_size=(3, 3), activation=\"relu\"))\n",
        "model.add(MaxPooling2D(pool_size=(2, 2)))\n",
        "model.add(Dropout(rate=0.1))\n",
        "\n",
        "model.add(Flatten())\n",
        "model.add(Dense(units=512, activation=\"relu\"))\n",
        "model.add(Dropout(rate=0.2))\n",
        "\n",
        "model.add(Dense(numclasses, activation=\"softmax\"))"
      ],
      "metadata": {
        "id": "uNgjLazBiuEn"
      },
      "execution_count": 22,
      "outputs": []
    },
    {
      "cell_type": "code",
      "source": [
        "model.compile(optimizer=\"adam\", loss=\"categorical_crossentropy\", metrics=[\"accuracy\"])"
      ],
      "metadata": {
        "id": "-zJdOgoakPvK"
      },
      "execution_count": 28,
      "outputs": []
    },
    {
      "cell_type": "code",
      "source": [
        "model.summary()"
      ],
      "metadata": {
        "id": "XOixYl4wjjG4"
      },
      "execution_count": null,
      "outputs": []
    },
    {
      "cell_type": "code",
      "source": [
        "import os\n",
        "\n",
        "num_train_images = 0\n",
        "for root, dirs, files in os.walk(TRAIN_IMAGES_PATH):\n",
        "  num_train_images += len(files)\n",
        "\n",
        "num_test_images = 0\n",
        "for root, dirs, files in os.walk(TEST_IMAGES_PATH):\n",
        "  num_test_images += len(files)"
      ],
      "metadata": {
        "id": "UqOu0Y6pjnE1"
      },
      "execution_count": 24,
      "outputs": []
    },
    {
      "cell_type": "code",
      "source": [
        "EPOCHS = 50\n",
        "\n",
        "history = model.fit(\n",
        "    train_generator,\n",
        "    steps_per_epoch=num_train_images//BATCH_SIZE,\n",
        "    epochs=EPOCHS,\n",
        "    validation_data=test_generator,\n",
        "    validation_steps=num_test_images//BATCH_SIZE\n",
        ")"
      ],
      "metadata": {
        "colab": {
          "base_uri": "https://localhost:8080/"
        },
        "id": "EywiDrwLkIJs",
        "outputId": "c7285be9-fea7-4021-f886-fe44954559d2"
      },
      "execution_count": 29,
      "outputs": [
        {
          "output_type": "stream",
          "name": "stdout",
          "text": [
            "Epoch 1/50\n",
            "212/212 [==============================] - 46s 162ms/step - loss: 1.0251 - accuracy: 0.4946 - val_loss: 0.9563 - val_accuracy: 0.5436\n",
            "Epoch 2/50\n",
            "212/212 [==============================] - 36s 172ms/step - loss: 0.9381 - accuracy: 0.5655 - val_loss: 0.8648 - val_accuracy: 0.5854\n",
            "Epoch 3/50\n",
            "212/212 [==============================] - 35s 165ms/step - loss: 0.8532 - accuracy: 0.6071 - val_loss: 0.7674 - val_accuracy: 0.6585\n",
            "Epoch 4/50\n",
            "212/212 [==============================] - 35s 163ms/step - loss: 0.7758 - accuracy: 0.6514 - val_loss: 0.7455 - val_accuracy: 0.6633\n",
            "Epoch 5/50\n",
            "212/212 [==============================] - 36s 170ms/step - loss: 0.7190 - accuracy: 0.6830 - val_loss: 0.6334 - val_accuracy: 0.7306\n",
            "Epoch 6/50\n",
            "212/212 [==============================] - 33s 157ms/step - loss: 0.6756 - accuracy: 0.7003 - val_loss: 0.6146 - val_accuracy: 0.7403\n",
            "Epoch 7/50\n",
            "212/212 [==============================] - 35s 163ms/step - loss: 0.6289 - accuracy: 0.7321 - val_loss: 0.5998 - val_accuracy: 0.7500\n",
            "Epoch 8/50\n",
            "212/212 [==============================] - 34s 159ms/step - loss: 0.5983 - accuracy: 0.7454 - val_loss: 0.5672 - val_accuracy: 0.7733\n",
            "Epoch 9/50\n",
            "212/212 [==============================] - 35s 164ms/step - loss: 0.5630 - accuracy: 0.7726 - val_loss: 0.5291 - val_accuracy: 0.7848\n",
            "Epoch 10/50\n",
            "212/212 [==============================] - 35s 166ms/step - loss: 0.5253 - accuracy: 0.7798 - val_loss: 0.5052 - val_accuracy: 0.7945\n",
            "Epoch 11/50\n",
            "212/212 [==============================] - 35s 165ms/step - loss: 0.4997 - accuracy: 0.7934 - val_loss: 0.5129 - val_accuracy: 0.7993\n",
            "Epoch 12/50\n",
            "212/212 [==============================] - 27s 125ms/step - loss: 0.4748 - accuracy: 0.8109 - val_loss: 0.5115 - val_accuracy: 0.7879\n",
            "Epoch 13/50\n",
            "212/212 [==============================] - 23s 110ms/step - loss: 0.4554 - accuracy: 0.8156 - val_loss: 0.4684 - val_accuracy: 0.8156\n",
            "Epoch 14/50\n",
            "212/212 [==============================] - 25s 118ms/step - loss: 0.4373 - accuracy: 0.8246 - val_loss: 0.4581 - val_accuracy: 0.8187\n",
            "Epoch 15/50\n",
            "212/212 [==============================] - 23s 110ms/step - loss: 0.4198 - accuracy: 0.8338 - val_loss: 0.4938 - val_accuracy: 0.8059\n",
            "Epoch 16/50\n",
            "212/212 [==============================] - 25s 120ms/step - loss: 0.4062 - accuracy: 0.8367 - val_loss: 0.4515 - val_accuracy: 0.8222\n",
            "Epoch 17/50\n",
            "212/212 [==============================] - 26s 120ms/step - loss: 0.3894 - accuracy: 0.8445 - val_loss: 0.4530 - val_accuracy: 0.8283\n",
            "Epoch 18/50\n",
            "212/212 [==============================] - 23s 110ms/step - loss: 0.3789 - accuracy: 0.8516 - val_loss: 0.4364 - val_accuracy: 0.8301\n",
            "Epoch 19/50\n",
            "212/212 [==============================] - 23s 110ms/step - loss: 0.3609 - accuracy: 0.8561 - val_loss: 0.4821 - val_accuracy: 0.8160\n",
            "Epoch 20/50\n",
            "212/212 [==============================] - 25s 119ms/step - loss: 0.3357 - accuracy: 0.8676 - val_loss: 0.4323 - val_accuracy: 0.8292\n",
            "Epoch 21/50\n",
            "212/212 [==============================] - 23s 108ms/step - loss: 0.3218 - accuracy: 0.8716 - val_loss: 0.4256 - val_accuracy: 0.8446\n",
            "Epoch 22/50\n",
            "212/212 [==============================] - 23s 109ms/step - loss: 0.3253 - accuracy: 0.8712 - val_loss: 0.4401 - val_accuracy: 0.8495\n",
            "Epoch 23/50\n",
            "212/212 [==============================] - 23s 109ms/step - loss: 0.3104 - accuracy: 0.8819 - val_loss: 0.4365 - val_accuracy: 0.8420\n",
            "Epoch 24/50\n",
            "212/212 [==============================] - 23s 109ms/step - loss: 0.3019 - accuracy: 0.8802 - val_loss: 0.4388 - val_accuracy: 0.8363\n",
            "Epoch 25/50\n",
            "212/212 [==============================] - 23s 109ms/step - loss: 0.3043 - accuracy: 0.8846 - val_loss: 0.4316 - val_accuracy: 0.8429\n",
            "Epoch 26/50\n",
            "212/212 [==============================] - 24s 111ms/step - loss: 0.2929 - accuracy: 0.8867 - val_loss: 0.4365 - val_accuracy: 0.8367\n",
            "Epoch 27/50\n",
            "212/212 [==============================] - 24s 113ms/step - loss: 0.2742 - accuracy: 0.8942 - val_loss: 0.4367 - val_accuracy: 0.8411\n",
            "Epoch 28/50\n",
            "212/212 [==============================] - 24s 113ms/step - loss: 0.2735 - accuracy: 0.8906 - val_loss: 0.4157 - val_accuracy: 0.8508\n",
            "Epoch 29/50\n",
            "212/212 [==============================] - 26s 121ms/step - loss: 0.2594 - accuracy: 0.8970 - val_loss: 0.4344 - val_accuracy: 0.8455\n",
            "Epoch 30/50\n",
            "212/212 [==============================] - 24s 111ms/step - loss: 0.2668 - accuracy: 0.8954 - val_loss: 0.4556 - val_accuracy: 0.8385\n",
            "Epoch 31/50\n",
            "212/212 [==============================] - 23s 109ms/step - loss: 0.2426 - accuracy: 0.9100 - val_loss: 0.4824 - val_accuracy: 0.8482\n",
            "Epoch 32/50\n",
            "212/212 [==============================] - 24s 111ms/step - loss: 0.2527 - accuracy: 0.9037 - val_loss: 0.4500 - val_accuracy: 0.8451\n",
            "Epoch 33/50\n",
            "212/212 [==============================] - 24s 114ms/step - loss: 0.2473 - accuracy: 0.9013 - val_loss: 0.4707 - val_accuracy: 0.8411\n",
            "Epoch 34/50\n",
            "212/212 [==============================] - 24s 113ms/step - loss: 0.2329 - accuracy: 0.9133 - val_loss: 0.4957 - val_accuracy: 0.8376\n",
            "Epoch 35/50\n",
            "212/212 [==============================] - 24s 114ms/step - loss: 0.2345 - accuracy: 0.9079 - val_loss: 0.4714 - val_accuracy: 0.8473\n",
            "Epoch 36/50\n",
            "212/212 [==============================] - 24s 112ms/step - loss: 0.2335 - accuracy: 0.9107 - val_loss: 0.4920 - val_accuracy: 0.8446\n",
            "Epoch 37/50\n",
            "212/212 [==============================] - 24s 113ms/step - loss: 0.2172 - accuracy: 0.9147 - val_loss: 0.4785 - val_accuracy: 0.8490\n",
            "Epoch 38/50\n",
            "212/212 [==============================] - 24s 111ms/step - loss: 0.2052 - accuracy: 0.9233 - val_loss: 0.5156 - val_accuracy: 0.8495\n",
            "Epoch 39/50\n",
            "212/212 [==============================] - 24s 115ms/step - loss: 0.2149 - accuracy: 0.9172 - val_loss: 0.4750 - val_accuracy: 0.8477\n",
            "Epoch 40/50\n",
            "212/212 [==============================] - 24s 113ms/step - loss: 0.2182 - accuracy: 0.9195 - val_loss: 0.5101 - val_accuracy: 0.8508\n",
            "Epoch 41/50\n",
            "212/212 [==============================] - 24s 111ms/step - loss: 0.2059 - accuracy: 0.9223 - val_loss: 0.4665 - val_accuracy: 0.8473\n",
            "Epoch 42/50\n",
            "212/212 [==============================] - 24s 112ms/step - loss: 0.2077 - accuracy: 0.9206 - val_loss: 0.5028 - val_accuracy: 0.8530\n",
            "Epoch 43/50\n",
            "212/212 [==============================] - 26s 121ms/step - loss: 0.2090 - accuracy: 0.9220 - val_loss: 0.5200 - val_accuracy: 0.8499\n",
            "Epoch 44/50\n",
            "212/212 [==============================] - 23s 110ms/step - loss: 0.1948 - accuracy: 0.9276 - val_loss: 0.5094 - val_accuracy: 0.8438\n",
            "Epoch 45/50\n",
            "212/212 [==============================] - 24s 111ms/step - loss: 0.2094 - accuracy: 0.9217 - val_loss: 0.5191 - val_accuracy: 0.8429\n",
            "Epoch 46/50\n",
            "212/212 [==============================] - 23s 111ms/step - loss: 0.2000 - accuracy: 0.9251 - val_loss: 0.4819 - val_accuracy: 0.8556\n",
            "Epoch 47/50\n",
            "212/212 [==============================] - 24s 111ms/step - loss: 0.1891 - accuracy: 0.9297 - val_loss: 0.5014 - val_accuracy: 0.8486\n",
            "Epoch 48/50\n",
            "212/212 [==============================] - 24s 112ms/step - loss: 0.1888 - accuracy: 0.9277 - val_loss: 0.5174 - val_accuracy: 0.8442\n",
            "Epoch 49/50\n",
            "212/212 [==============================] - 26s 122ms/step - loss: 0.1845 - accuracy: 0.9276 - val_loss: 0.5514 - val_accuracy: 0.8429\n",
            "Epoch 50/50\n",
            "212/212 [==============================] - 24s 111ms/step - loss: 0.1781 - accuracy: 0.9336 - val_loss: 0.5270 - val_accuracy: 0.8464\n"
          ]
        }
      ]
    },
    {
      "cell_type": "markdown",
      "source": [
        "#Plots"
      ],
      "metadata": {
        "id": "R4-HjEqzrpFd"
      }
    },
    {
      "cell_type": "code",
      "source": [
        "accuracy = history.history['accuracy']\n",
        "val_accuracy = history.history['val_accuracy']\n",
        "loss = history.history['loss']\n",
        "val_loss = history.history['val_loss']\n",
        "epochs = range(1, len(loss)+1)"
      ],
      "metadata": {
        "id": "p0Oirtnrkti5"
      },
      "execution_count": 32,
      "outputs": []
    },
    {
      "cell_type": "code",
      "source": [
        "plt.plot(epochs, accuracy, \"y\", label=\"Training Accuracy\")\n",
        "plt.plot(epochs, val_accuracy, \"r\", label=\"Validation Accuracy\")\n",
        "plt.title(\"Accuracy\")\n",
        "plt.xlabel(\"Epochs\")\n",
        "plt.ylabel(\"Accuracy\")\n",
        "plt.legend()\n",
        "plt.show()"
      ],
      "metadata": {
        "colab": {
          "base_uri": "https://localhost:8080/",
          "height": 295
        },
        "id": "lfbWil8RtKiI",
        "outputId": "553dcde2-f2eb-4e2a-9baf-72573b613610"
      },
      "execution_count": 35,
      "outputs": [
        {
          "output_type": "display_data",
          "data": {
            "image/png": "[encoded data removed]",
            "text/plain": [
              "<Figure size 432x288 with 1 Axes>"
            ]
          },
          "metadata": {
            "needs_background": "light"
          }
        }
      ]
    },
    {
      "cell_type": "code",
      "source": [
        "plt.plot(epochs, loss, \"y\", label=\"Training Loss\")\n",
        "plt.plot(epochs, val_loss, \"r\", label=\"Validation Loss\")\n",
        "plt.title(\"Loss\")\n",
        "plt.xlabel(\"Epochs\")\n",
        "plt.ylabel(\"Accuracy\")\n",
        "plt.legend()\n",
        "plt.show()"
      ],
      "metadata": {
        "colab": {
          "base_uri": "https://localhost:8080/",
          "height": 295
        },
        "id": "SSJpIkbdtLnP",
        "outputId": "1b914a04-75c4-4490-b8ee-de4dc1a13c47"
      },
      "execution_count": 36,
      "outputs": [
        {
          "output_type": "display_data",
          "data": {
            "image/png": "[encoded data removed]",
            "text/plain": [
              "<Figure size 432x288 with 1 Axes>"
            ]
          },
          "metadata": {
            "needs_background": "light"
          }
        }
      ]
    },
    {
      "cell_type": "markdown",
      "source": [
        "#Saving Model"
      ],
      "metadata": {
        "id": "fpry8Sj7t1Og"
      }
    },
    {
      "cell_type": "code",
      "source": [
        "model.save(\"emotions_detection.h5\")"
      ],
      "metadata": {
        "id": "Y56YiFMet2-v"
      },
      "execution_count": 37,
      "outputs": []
    },
    {
      "cell_type": "markdown",
      "source": [
        "#Evalutaion"
      ],
      "metadata": {
        "id": "js4usgsQtyh9"
      }
    },
    {
      "cell_type": "code",
      "source": [
        "import numpy as np\n",
        "\n",
        "test_img, test_lbl = test_generator.__next__()\n",
        "predictions=model.predict(test_img)\n",
        "\n",
        "predictions=np.argmax(predictions, axis=1)\n",
        "test_labels=np.argmax(test_lbl, axis=1)"
      ],
      "metadata": {
        "id": "hwoQPmudt0dO"
      },
      "execution_count": 38,
      "outputs": []
    },
    {
      "cell_type": "code",
      "source": [
        "from sklearn.metrics import confusion_matrix\n",
        "\n",
        "cm = confusion_matrix(test_labels, predictions)"
      ],
      "metadata": {
        "id": "aHtCw3T9uV6e"
      },
      "execution_count": 39,
      "outputs": []
    },
    {
      "cell_type": "code",
      "source": [
        "cm"
      ],
      "metadata": {
        "colab": {
          "base_uri": "https://localhost:8080/"
        },
        "id": "vnzD3tXcup2b",
        "outputId": "b9be5124-3744-4fbf-d688-88724a18ec9f"
      },
      "execution_count": 41,
      "outputs": [
        {
          "output_type": "execute_result",
          "data": {
            "text/plain": [
              "array([[10,  0,  3],\n",
              "       [ 2,  6,  1],\n",
              "       [ 1,  0,  9]])"
            ]
          },
          "metadata": {},
          "execution_count": 41
        }
      ]
    },
    {
      "cell_type": "code",
      "source": [
        "import seaborn as sns\n",
        "sns.heatmap(cm, annot=True)"
      ],
      "metadata": {
        "colab": {
          "base_uri": "https://localhost:8080/",
          "height": 287
        },
        "id": "v7wJT5bFuepF",
        "outputId": "1de7929b-70dd-4449-ec70-c805ac07d0d0"
      },
      "execution_count": 40,
      "outputs": [
        {
          "output_type": "execute_result",
          "data": {
            "text/plain": [
              "<matplotlib.axes._subplots.AxesSubplot at 0x7fe6e87f3b90>"
            ]
          },
          "metadata": {},
          "execution_count": 40
        },
        {
          "output_type": "display_data",
          "data": {
            "image/png": "[encoded data removed]",
            "text/plain": [
              "<Figure size 432x288 with 2 Axes>"
            ]
          },
          "metadata": {
            "needs_background": "light"
          }
        }
      ]
    },
    {
      "cell_type": "code",
      "source": [
        "loss, accuracy = model.evaluate(test_generator)"
      ],
      "metadata": {
        "colab": {
          "base_uri": "https://localhost:8080/"
        },
        "id": "sgpumqMAumEE",
        "outputId": "22094aca-baa5-4307-9f9b-481cb6e4b692"
      },
      "execution_count": 44,
      "outputs": [
        {
          "output_type": "stream",
          "name": "stdout",
          "text": [
            "72/72 [==============================] - 5s 71ms/step - loss: 0.5286 - accuracy: 0.8464\n"
          ]
        }
      ]
    },
    {
      "cell_type": "code",
      "source": [
        "print(\"The Accuracy of Model is {}%\".format(round(accuracy*100, 2)))\n",
        "print(\"The Loss of Model is {}\".format(round(loss, 2)))"
      ],
      "metadata": {
        "colab": {
          "base_uri": "https://localhost:8080/"
        },
        "id": "Bb2iZCxYuybD",
        "outputId": "230ce453-99d7-40fd-bad7-e824d044338e"
      },
      "execution_count": 47,
      "outputs": [
        {
          "output_type": "stream",
          "name": "stdout",
          "text": [
            "The Accuracy of Model is 84.64%\n",
            "The Loss of Model is 0.53\n"
          ]
        }
      ]
    },
    {
      "cell_type": "markdown",
      "source": [
        "#Convert to TFlite"
      ],
      "metadata": {
        "id": "6-ikQ7QtwOcg"
      }
    },
    {
      "cell_type": "code",
      "source": [
        "import tensorflow as tf\n",
        "\n",
        "model =tf.keras.models.load_model(\"/content/emotions_detection.h5\")\n",
        "\n",
        "converter = tf.lite.TFLiteConverter.from_keras_model(model)\n",
        "tflite_model = converter.convert()\n",
        "open(\"emotions_detection_tflite_model.tflite\", \"wb\").write(tflite_model)"
      ],
      "metadata": {
        "colab": {
          "base_uri": "https://localhost:8080/"
        },
        "id": "y08QpS3Pu2CC",
        "outputId": "c05ed971-7735-4ac6-a95d-7f87eade67e0"
      },
      "execution_count": 48,
      "outputs": [
        {
          "output_type": "stream",
          "name": "stdout",
          "text": [
            "INFO:tensorflow:Assets written to: /tmp/tmpp1_4j81h/assets\n"
          ]
        },
        {
          "output_type": "stream",
          "name": "stderr",
          "text": [
            "WARNING:absl:Buffer deduplication procedure will be skipped when flatbuffer library is not properly loaded\n"
          ]
        },
        {
          "output_type": "execute_result",
          "data": {
            "text/plain": [
              "53992468"
            ]
          },
          "metadata": {},
          "execution_count": 48
        }
      ]
    },
    {
      "cell_type": "markdown",
      "source": [
        "#Optmized TFLite Model"
      ],
      "metadata": {
        "id": "1tStCTxRw-Fb"
      }
    },
    {
      "cell_type": "code",
      "source": [
        "import tensorflow as tf\n",
        "\n",
        "model =tf.keras.models.load_model(\"/content/emotions_detection.h5\")\n",
        "\n",
        "converter = tf.lite.TFLiteConverter.from_keras_model(model)\n",
        "converter.optimizations = [tf.lite.Optimize.DEFAULT]\n",
        "tflite_model = converter.convert()\n",
        "open(\"emotions_detection_tflite_optimized_model.tflite\", \"wb\").write(tflite_model)"
      ],
      "metadata": {
        "colab": {
          "base_uri": "https://localhost:8080/"
        },
        "id": "x6hx8I0ZxApU",
        "outputId": "3374728d-d2d6-4cb1-9cf2-1e35e46df791"
      },
      "execution_count": 49,
      "outputs": [
        {
          "output_type": "stream",
          "name": "stdout",
          "text": [
            "INFO:tensorflow:Assets written to: /tmp/tmpa_yvwu8r/assets\n"
          ]
        },
        {
          "output_type": "stream",
          "name": "stderr",
          "text": [
            "INFO:tensorflow:Assets written to: /tmp/tmpa_yvwu8r/assets\n",
            "WARNING:absl:Buffer deduplication procedure will be skipped when flatbuffer library is not properly loaded\n"
          ]
        },
        {
          "output_type": "execute_result",
          "data": {
            "text/plain": [
              "13514464"
            ]
          },
          "metadata": {},
          "execution_count": 49
        }
      ]
    },
    {
      "cell_type": "markdown",
      "source": [
        "#Testing Models"
      ],
      "metadata": {
        "id": "zdh1j0Yc63ik"
      }
    },
    {
      "cell_type": "code",
      "source": [
        "import numpy as np\n",
        "import tensorflow as tf\n",
        "from keras.preprocessing.image import img_to_array\n",
        "from keras.preprocessing.image import load_img"
      ],
      "metadata": {
        "id": "RSk2k7LUyi80"
      },
      "execution_count": 61,
      "outputs": []
    },
    {
      "cell_type": "code",
      "source": [
        "image = load_img(\"/content/Emotions Dataset/test/angry/147092.jpg\", target_size=(100, 100), grayscale=True)\n",
        "image = img_to_array(image)\n",
        "image = tf.expand_dims(image, 0)\n",
        "print(image.shape)\n",
        "\n",
        "from tensorflow.keras.utils import normalize\n",
        "image = normalize(image, axis=1)"
      ],
      "metadata": {
        "colab": {
          "base_uri": "https://localhost:8080/"
        },
        "id": "xkV6GKpA0Hpx",
        "outputId": "dd8a1157-7d05-4417-b9e9-9123d73d85cb"
      },
      "execution_count": 69,
      "outputs": [
        {
          "output_type": "stream",
          "name": "stdout",
          "text": [
            "(1, 100, 100, 1)\n"
          ]
        },
        {
          "output_type": "stream",
          "name": "stderr",
          "text": [
            "/usr/local/lib/python3.7/dist-packages/keras_preprocessing/image/utils.py:107: UserWarning: grayscale is deprecated. Please use color_mode = \"grayscale\"\n",
            "  warnings.warn('grayscale is deprecated. Please use '\n"
          ]
        }
      ]
    },
    {
      "cell_type": "code",
      "source": [
        "# Using Keras Model\n",
        "keras_model = tf.keras.models.load_model(\"/content/emotions_detection.h5\", compile=False)\n",
        "prediction = model.predict(image)\n",
        "print(np.argmax(prediction))"
      ],
      "metadata": {
        "colab": {
          "base_uri": "https://localhost:8080/"
        },
        "id": "ewiod4Aq0zSU",
        "outputId": "b4d5a5a2-baf8-4278-93e6-3ea910a4118c"
      },
      "execution_count": 71,
      "outputs": [
        {
          "output_type": "stream",
          "name": "stdout",
          "text": [
            "0\n"
          ]
        }
      ]
    },
    {
      "cell_type": "code",
      "source": [
        "# Using TFLIte without OPTIMIZE\n",
        "emotion_interpreter = tf.lite.Interpreter(model_path=\"/content/emotions_detection_tflite_model.tflite\")\n",
        "emotion_interpreter.allocate_tensors()"
      ],
      "metadata": {
        "id": "r5lPB1Fs1W5s"
      },
      "execution_count": 72,
      "outputs": []
    },
    {
      "cell_type": "code",
      "source": [
        "# Get input and output tensors.\n",
        "emotion_input_details = emotion_interpreter.get_input_details()\n",
        "emotion_output_details = emotion_interpreter.get_output_details()"
      ],
      "metadata": {
        "id": "YrJVRZKA4zLa"
      },
      "execution_count": 73,
      "outputs": []
    },
    {
      "cell_type": "code",
      "source": [
        "emotion_interpreter.set_tensor(emotion_input_details[0]['index'], image)\n",
        "emotion_interpreter.invoke()\n",
        "emotion_preds = emotion_interpreter.get_tensor(emotion_output_details[0]['index'])"
      ],
      "metadata": {
        "id": "WagZ1cZ96DDW"
      },
      "execution_count": 74,
      "outputs": []
    },
    {
      "cell_type": "code",
      "source": [
        "print(np.argmax(emotion_preds))"
      ],
      "metadata": {
        "colab": {
          "base_uri": "https://localhost:8080/"
        },
        "id": "Qjfd-XZC6UYz",
        "outputId": "70bc23e6-c572-4adf-c53a-43dccae0b443"
      },
      "execution_count": 76,
      "outputs": [
        {
          "output_type": "stream",
          "name": "stdout",
          "text": [
            "0\n"
          ]
        }
      ]
    },
    {
      "cell_type": "code",
      "source": [
        "# Using TFLIte with OPTIMIZE\n",
        "emotion_interpreter = tf.lite.Interpreter(model_path=\"/content/emotions_detection_tflite_optimized_model.tflite\")\n",
        "emotion_interpreter.allocate_tensors()\n",
        "# Get input and output tensors.\n",
        "emotion_input_details = emotion_interpreter.get_input_details()\n",
        "emotion_output_details = emotion_interpreter.get_output_details()\n",
        "emotion_interpreter.set_tensor(emotion_input_details[0]['index'], image)\n",
        "emotion_interpreter.invoke()\n",
        "emotion_preds = emotion_interpreter.get_tensor(emotion_output_details[0]['index'])\n",
        "print(np.argmax(emotion_preds))"
      ],
      "metadata": {
        "colab": {
          "base_uri": "https://localhost:8080/"
        },
        "id": "bFG9H5nV6Y8k",
        "outputId": "5460bcb4-3447-4571-cf56-66528b2770c7"
      },
      "execution_count": 77,
      "outputs": [
        {
          "output_type": "stream",
          "name": "stdout",
          "text": [
            "0\n"
          ]
        }
      ]
    },
    {
      "cell_type": "code",
      "source": [
        "# All the predictions are accurate"
      ],
      "metadata": {
        "id": "mFqBqYP-6zo0"
      },
      "execution_count": null,
      "outputs": []
    }
  ]
}